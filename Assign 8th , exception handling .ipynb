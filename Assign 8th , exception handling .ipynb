{
 "cells": [
  {
   "cell_type": "markdown",
   "id": "94f4ae48-fab2-46a9-a8b0-a1cd268bd9a5",
   "metadata": {},
   "source": [
    "1) What is an Exception in python? Write the differen between Exception and syntax error"
   ]
  },
  {
   "cell_type": "markdown",
   "id": "04ca2e92-4379-4776-b458-e13709fab4a1",
   "metadata": {},
   "source": [
    "excepttion we you when error can occur and to continue the flow of code which is written after exception \n",
    "and syntax error get occur when we make mistake in writing "
   ]
  },
  {
   "cell_type": "markdown",
   "id": "b53fda2a-6b40-4f2c-abbd-8a171c9e965c",
   "metadata": {},
   "source": [
    "2) what happen when an exception is not handled ? explain with an example"
   ]
  },
  {
   "cell_type": "markdown",
   "id": "b3dcdb76-3286-4fad-b073-5be73ed3a23a",
   "metadata": {},
   "source": [
    "The exception is re-raised after the finally clause has been executed if it not handled "
   ]
  },
  {
   "cell_type": "code",
   "execution_count": 5,
   "id": "982bca0a-0407-453d-b132-1ca6465f686f",
   "metadata": {},
   "outputs": [
    {
     "name": "stdout",
     "output_type": "stream",
     "text": [
      "zerodivison error\n"
     ]
    }
   ],
   "source": [
    "try: \n",
    "    10/0\n",
    "except ZeroDivisionError  as e :\n",
    "    print(\"zerodivison error\")"
   ]
  },
  {
   "cell_type": "markdown",
   "id": "1f96d583-7fb3-4c52-9db8-0ca917f2ea6c",
   "metadata": {},
   "source": [
    "3) which statements are used to catch and handle exception ? explain with an example python"
   ]
  },
  {
   "cell_type": "markdown",
   "id": "5ab1c08c-0add-4cd6-b465-c21e10f04f59",
   "metadata": {},
   "source": [
    "Try and except block are used to catch and handle exception in python "
   ]
  },
  {
   "cell_type": "code",
   "execution_count": 17,
   "id": "18f92c51-6117-4ecc-9f5f-1b6f72ae1d60",
   "metadata": {},
   "outputs": [
    {
     "name": "stdout",
     "output_type": "stream",
     "text": [
      "name 'a' is not defined\n"
     ]
    }
   ],
   "source": [
    "try :\n",
    "    a/0\n",
    "except Exception as e :\n",
    "    print(e)"
   ]
  },
  {
   "cell_type": "code",
   "execution_count": 22,
   "id": "077f1d3b-7191-46b8-9b02-d7b0b9c4ed36",
   "metadata": {},
   "outputs": [
    {
     "name": "stdout",
     "output_type": "stream",
     "text": [
      "division by zero\n"
     ]
    }
   ],
   "source": [
    "try :\n",
    "    True == 10/0\n",
    "except Exception as e :\n",
    "    print(e)"
   ]
  },
  {
   "cell_type": "markdown",
   "id": "627ab86d-68eb-45ef-9a63-48ffc168cb95",
   "metadata": {},
   "source": [
    "4) explain with an example \n",
    "a. try and else \n",
    "b. finally\n",
    "c. raise"
   ]
  },
  {
   "cell_type": "code",
   "execution_count": 31,
   "id": "92af39c7-33fe-4bc4-9e80-25dbdfc9071d",
   "metadata": {},
   "outputs": [
    {
     "name": "stdout",
     "output_type": "stream",
     "text": [
      "invalid literal for int() with base 10: 'unnu'\n"
     ]
    }
   ],
   "source": [
    "try :\n",
    "    int(\"unnu\")\n",
    "except Exception as e :\n",
    "    print(e)\n",
    "else :\n",
    "    print(\"Hello\")\n"
   ]
  },
  {
   "cell_type": "markdown",
   "id": "faf401d5-692f-4660-8322-79714cf896a1",
   "metadata": {},
   "source": [
    "finally"
   ]
  },
  {
   "cell_type": "code",
   "execution_count": 34,
   "id": "a394ff07-d71f-416b-b724-81db5d21ed38",
   "metadata": {},
   "outputs": [
    {
     "name": "stdout",
     "output_type": "stream",
     "text": [
      "No module named 'unnu'\n",
      "13\n"
     ]
    }
   ],
   "source": [
    "try :\n",
    "    import unnu\n",
    "except Exception as e :\n",
    "    print(e)\n",
    "finally :\n",
    "    print(5+8)"
   ]
  },
  {
   "cell_type": "markdown",
   "id": "a10ded5a-6196-4c1e-89e7-9513781d54da",
   "metadata": {},
   "source": [
    "Raise "
   ]
  },
  {
   "cell_type": "markdown",
   "id": "7c358c2f-d9a9-4a5e-bce7-b74578ca399c",
   "metadata": {},
   "source": [
    "5) what are custom exceptions and why do we need custom exception . explain with an example"
   ]
  },
  {
   "cell_type": "markdown",
   "id": "3d968e24-784e-44fc-838a-b24b2a059316",
   "metadata": {},
   "source": [
    "In Python, we can define custom exceptions by creating a new class that is derived from the built-in Exception class. "
   ]
  },
  {
   "cell_type": "markdown",
   "id": "e79e33a3-835d-45d8-a56b-e19749c5b09b",
   "metadata": {},
   "source": [
    "example"
   ]
  },
  {
   "cell_type": "code",
   "execution_count": 47,
   "id": "d12aa86a-7139-43bf-8d9e-730bd340a100",
   "metadata": {},
   "outputs": [
    {
     "name": "stdin",
     "output_type": "stream",
     "text": [
      "enter your age 25\n"
     ]
    }
   ],
   "source": [
    "age = int(input(\"enter your age\"))"
   ]
  },
  {
   "cell_type": "markdown",
   "id": "be69ef63-b21a-45be-8158-d56df1821dee",
   "metadata": {},
   "source": [
    "6 ) Create a custom exception class . use this class to handle an exception"
   ]
  },
  {
   "cell_type": "code",
   "execution_count": 62,
   "id": "dd5d7727-bd66-4842-9faf-afaf3030522a",
   "metadata": {},
   "outputs": [],
   "source": [
    "class validateage(Exception) :\n",
    "    \n",
    "    def __init__(self , msg):\n",
    "        self.msg  = msg\n",
    "    "
   ]
  },
  {
   "cell_type": "code",
   "execution_count": 63,
   "id": "18ef91b0-0e11-449c-8ffb-41ab393673dc",
   "metadata": {},
   "outputs": [],
   "source": [
    "def validateage(age):\n",
    "    if age < 0 :\n",
    "        raise validateage(\"entered age is negative\")\n",
    "    elif age > 200:\n",
    "        raise validateage(\"entered age is very high \")\n",
    "    else :\n",
    "        print(\"age is valid\")"
   ]
  },
  {
   "cell_type": "code",
   "execution_count": 67,
   "id": "30cf8ec5-d253-4ab6-8cdc-f202f1dd0396",
   "metadata": {},
   "outputs": [
    {
     "name": "stdin",
     "output_type": "stream",
     "text": [
      "enter your age 16\n"
     ]
    },
    {
     "name": "stdout",
     "output_type": "stream",
     "text": [
      "age is valid\n"
     ]
    }
   ],
   "source": [
    "try :\n",
    "    age = int(input(\"enter your age\"))\n",
    "    validateage(age)\n",
    "except validateage as e :\n",
    "    print(e)"
   ]
  },
  {
   "cell_type": "code",
   "execution_count": null,
   "id": "3f2cb5ae-b312-4876-87f0-17f9857edbda",
   "metadata": {},
   "outputs": [],
   "source": []
  }
 ],
 "metadata": {
  "kernelspec": {
   "display_name": "Python 3 (ipykernel)",
   "language": "python",
   "name": "python3"
  },
  "language_info": {
   "codemirror_mode": {
    "name": "ipython",
    "version": 3
   },
   "file_extension": ".py",
   "mimetype": "text/x-python",
   "name": "python",
   "nbconvert_exporter": "python",
   "pygments_lexer": "ipython3",
   "version": "3.10.8"
  }
 },
 "nbformat": 4,
 "nbformat_minor": 5
}
